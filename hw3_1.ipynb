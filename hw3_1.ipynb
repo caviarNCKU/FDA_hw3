{
 "cells": [
  {
   "cell_type": "markdown",
   "metadata": {},
   "source": [
    "# Logistic Regression Model"
   ]
  },
  {
   "cell_type": "code",
   "execution_count": 1,
   "metadata": {},
   "outputs": [],
   "source": [
    "import matplotlib.pyplot as plt\n",
    "import numpy as np\n",
    "import pandas as pd\n",
    "from sklearn import linear_model, metrics, model_selection\n",
    "import random"
   ]
  },
  {
   "cell_type": "markdown",
   "metadata": {},
   "source": [
    "## Preprocess the Data\n",
    "### Load the Data"
   ]
  },
  {
   "cell_type": "code",
   "execution_count": 2,
   "metadata": {},
   "outputs": [],
   "source": [
    "data = pd.read_csv('training.csv')\n",
    "test = pd.read_csv('test.csv')"
   ]
  },
  {
   "cell_type": "markdown",
   "metadata": {},
   "source": [
    "### Handling datetime\n",
    "* spilt datetime into day, month and year for training"
   ]
  },
  {
   "cell_type": "code",
   "execution_count": 3,
   "metadata": {},
   "outputs": [],
   "source": [
    "new = data[\"Date\"].str.split(\"-\", n = 2, expand = True) \n",
    "\n",
    "new.columns = ['Day', 'Month', 'Year']\n",
    "new.loc[new['Month'] == 'Jan', ['Month']] = 1\n",
    "new.loc[new['Month'] == 'Feb', ['Month']] = 2\n",
    "new.loc[new['Month'] == 'Mar', ['Month']] = 3\n",
    "new.loc[new['Month'] == 'Apr', ['Month']] = 4\n",
    "new.loc[new['Month'] == 'May', ['Month']] = 5\n",
    "new.loc[new['Month'] == 'Jun', ['Month']] = 6\n",
    "new.loc[new['Month'] == 'Jul', ['Month']] = 7\n",
    "new.loc[new['Month'] == 'Aug', ['Month']] = 8\n",
    "new.loc[new['Month'] == 'Sep', ['Month']] = 9\n",
    "new.loc[new['Month'] == 'Oct', ['Month']] = 10\n",
    "new.loc[new['Month'] == 'Nov', ['Month']] = 11\n",
    "new.loc[new['Month'] == 'Dec', ['Month']] = 12\n",
    "\n",
    "data = data.drop('Date', axis=1)\n",
    "data = pd.concat([new, data], axis=1)\n",
    "\n",
    "new2 = test[\"Date\"].str.split(\"-\", n = 2, expand = True) \n",
    "\n",
    "new2.columns = ['Day', 'Month', 'Year']\n",
    "new2.loc[new2['Month'] == 'Jan', ['Month']] = 1\n",
    "new2.loc[new2['Month'] == 'Feb', ['Month']] = 2\n",
    "new2.loc[new2['Month'] == 'Mar', ['Month']] = 3\n",
    "new2.loc[new2['Month'] == 'Apr', ['Month']] = 4\n",
    "new2.loc[new2['Month'] == 'May', ['Month']] = 5\n",
    "new2.loc[new2['Month'] == 'Jun', ['Month']] = 6\n",
    "new2.loc[new2['Month'] == 'Jul', ['Month']] = 7\n",
    "new2.loc[new2['Month'] == 'Aug', ['Month']] = 8\n",
    "new2.loc[new2['Month'] == 'Sep', ['Month']] = 9\n",
    "new2.loc[new2['Month'] == 'Oct', ['Month']] = 10\n",
    "new2.loc[new2['Month'] == 'Nov', ['Month']] = 11\n",
    "new2.loc[new2['Month'] == 'Dec', ['Month']] = 12\n",
    "\n",
    "test = test.drop('Date', axis=1)\n",
    "test = pd.concat([new2, test], axis=1)"
   ]
  },
  {
   "cell_type": "markdown",
   "metadata": {},
   "source": [
    "### Specifying the ups and downs\n",
    "* Subtract close price to open price.\n",
    "* If the result is positive(up), remark it as 1\n",
    "* Otherwise, remark it as 0\n",
    "* Up shift the row to predict the ups and downs tomorrow"
   ]
  },
  {
   "cell_type": "code",
   "execution_count": 4,
   "metadata": {},
   "outputs": [],
   "source": [
    "diff = pd.DataFrame(data['Close Price'] - data['Open Price'])\n",
    "diff.columns = ['Diff']\n",
    "diff = diff.drop(diff.index[0]).reset_index(drop=True)\n",
    "\n",
    "data = pd.concat([data, diff], axis=1)\n",
    "data.loc[data['Diff'] >= 0, ['Diff']] = 1\n",
    "data.loc[data['Diff'] < 0, ['Diff']] = 0\n",
    "data = data.fillna(0)\n",
    "\n",
    "diff2 = pd.DataFrame(test['Close Price'] - test['Open Price'])\n",
    "diff2.columns = ['Diff']\n",
    "diff2 = diff2.drop(diff2.index[0]).reset_index(drop=True)\n",
    "\n",
    "test = pd.concat([test, diff2], axis=1)\n",
    "test.loc[test['Diff'] >= 0, ['Diff']] = 1\n",
    "test.loc[test['Diff'] < 0, ['Diff']] = 0\n",
    "test = test.fillna(0)"
   ]
  },
  {
   "cell_type": "code",
   "execution_count": 5,
   "metadata": {},
   "outputs": [
    {
     "data": {
      "text/html": [
       "<div>\n",
       "<style scoped>\n",
       "    .dataframe tbody tr th:only-of-type {\n",
       "        vertical-align: middle;\n",
       "    }\n",
       "\n",
       "    .dataframe tbody tr th {\n",
       "        vertical-align: top;\n",
       "    }\n",
       "\n",
       "    .dataframe thead th {\n",
       "        text-align: right;\n",
       "    }\n",
       "</style>\n",
       "<table border=\"1\" class=\"dataframe\">\n",
       "  <thead>\n",
       "    <tr style=\"text-align: right;\">\n",
       "      <th></th>\n",
       "      <th>Day</th>\n",
       "      <th>Month</th>\n",
       "      <th>Year</th>\n",
       "      <th>Open Price</th>\n",
       "      <th>Close Price</th>\n",
       "      <th>High Price</th>\n",
       "      <th>Low Price</th>\n",
       "      <th>Volume</th>\n",
       "      <th>Diff</th>\n",
       "    </tr>\n",
       "  </thead>\n",
       "  <tbody>\n",
       "    <tr>\n",
       "      <th>0</th>\n",
       "      <td>02</td>\n",
       "      <td>1</td>\n",
       "      <td>2009</td>\n",
       "      <td>902.99</td>\n",
       "      <td>931.80</td>\n",
       "      <td>934.73</td>\n",
       "      <td>899.35</td>\n",
       "      <td>4048270080</td>\n",
       "      <td>0.0</td>\n",
       "    </tr>\n",
       "    <tr>\n",
       "      <th>1</th>\n",
       "      <td>05</td>\n",
       "      <td>1</td>\n",
       "      <td>2009</td>\n",
       "      <td>929.17</td>\n",
       "      <td>927.45</td>\n",
       "      <td>936.63</td>\n",
       "      <td>919.53</td>\n",
       "      <td>5413910016</td>\n",
       "      <td>1.0</td>\n",
       "    </tr>\n",
       "    <tr>\n",
       "      <th>2</th>\n",
       "      <td>06</td>\n",
       "      <td>1</td>\n",
       "      <td>2009</td>\n",
       "      <td>931.17</td>\n",
       "      <td>934.70</td>\n",
       "      <td>943.85</td>\n",
       "      <td>927.28</td>\n",
       "      <td>5392620032</td>\n",
       "      <td>0.0</td>\n",
       "    </tr>\n",
       "    <tr>\n",
       "      <th>3</th>\n",
       "      <td>07</td>\n",
       "      <td>1</td>\n",
       "      <td>2009</td>\n",
       "      <td>927.45</td>\n",
       "      <td>906.65</td>\n",
       "      <td>927.45</td>\n",
       "      <td>902.37</td>\n",
       "      <td>4704940032</td>\n",
       "      <td>1.0</td>\n",
       "    </tr>\n",
       "    <tr>\n",
       "      <th>4</th>\n",
       "      <td>08</td>\n",
       "      <td>1</td>\n",
       "      <td>2009</td>\n",
       "      <td>905.73</td>\n",
       "      <td>909.73</td>\n",
       "      <td>910.00</td>\n",
       "      <td>896.81</td>\n",
       "      <td>4991549952</td>\n",
       "      <td>0.0</td>\n",
       "    </tr>\n",
       "  </tbody>\n",
       "</table>\n",
       "</div>"
      ],
      "text/plain": [
       "  Day  Month  Year  Open Price  Close Price  High Price  Low Price  \\\n",
       "0  02      1  2009      902.99       931.80      934.73     899.35   \n",
       "1  05      1  2009      929.17       927.45      936.63     919.53   \n",
       "2  06      1  2009      931.17       934.70      943.85     927.28   \n",
       "3  07      1  2009      927.45       906.65      927.45     902.37   \n",
       "4  08      1  2009      905.73       909.73      910.00     896.81   \n",
       "\n",
       "       Volume  Diff  \n",
       "0  4048270080   0.0  \n",
       "1  5413910016   1.0  \n",
       "2  5392620032   0.0  \n",
       "3  4704940032   1.0  \n",
       "4  4991549952   0.0  "
      ]
     },
     "execution_count": 5,
     "metadata": {},
     "output_type": "execute_result"
    }
   ],
   "source": [
    "data.head(5)"
   ]
  },
  {
   "cell_type": "code",
   "execution_count": 6,
   "metadata": {},
   "outputs": [],
   "source": [
    "x_train = data.loc[:, data.columns != 'Diff']\n",
    "y_train = data.loc[:, data.columns == 'Diff']\n",
    "x_test = test.loc[:, test.columns != 'Diff']\n",
    "y_test = test.loc[:, test.columns == 'Diff']"
   ]
  },
  {
   "cell_type": "markdown",
   "metadata": {},
   "source": [
    "\n",
    "## Data Visualization"
   ]
  },
  {
   "cell_type": "code",
   "execution_count": 7,
   "metadata": {},
   "outputs": [],
   "source": [
    "def plot_feature(data, feature_name):\n",
    "    plt.figure(figsize=(10, 3))\n",
    "    plt.scatter(data[feature_name], data['Diff'])\n",
    "    plt.xlabel(feature_name)\n",
    "    plt.ylabel('Diff')\n",
    "    plt.show()"
   ]
  },
  {
   "cell_type": "code",
   "execution_count": 8,
   "metadata": {},
   "outputs": [
    {
     "data": {
      "image/png": "[encoded data removed]",
      "text/plain": [
       "<Figure size 720x216 with 1 Axes>"
      ]
     },
     "metadata": {
      "needs_background": "light"
     },
     "output_type": "display_data"
    }
   ],
   "source": [
    "plot_feature(data, 'Close Price')"
   ]
  },
  {
   "cell_type": "markdown",
   "metadata": {},
   "source": [
    "## Fit Baseline Model\n",
    "### Evaluation"
   ]
  },
  {
   "cell_type": "code",
   "execution_count": 9,
   "metadata": {},
   "outputs": [],
   "source": [
    "def evaluate(model, x_train, y_train, x_test, y_test):\n",
    "    train_preds = model.predict(x_train)\n",
    "    test_preds = model.predict(x_test)\n",
    "    train_acc = metrics.accuracy_score(y_train, train_preds)\n",
    "    test_acc = metrics.accuracy_score(y_test, test_preds)\n",
    "    print('Train accuracy: %s' % train_acc)\n",
    "    print('Test accuracy: %s' % test_acc)"
   ]
  },
  {
   "cell_type": "markdown",
   "metadata": {},
   "source": [
    "## Gradient Descent Model(Baseline)"
   ]
  },
  {
   "cell_type": "code",
   "execution_count": 10,
   "metadata": {},
   "outputs": [
    {
     "name": "stderr",
     "output_type": "stream",
     "text": [
      "/anaconda3/lib/python3.7/site-packages/sklearn/linear_model/stochastic_gradient.py:183: FutureWarning: max_iter and tol parameters have been added in SGDClassifier in 0.19. If max_iter is set but tol is left unset, the default value for tol in 0.19 and 0.20 will be None (which is equivalent to -infinity, so it has no effect) but will change in 0.21 to 1e-3. Specify tol to silence this warning.\n",
      "  FutureWarning)\n",
      "/anaconda3/lib/python3.7/site-packages/sklearn/utils/validation.py:761: DataConversionWarning: A column-vector y was passed when a 1d array was expected. Please change the shape of y to (n_samples, ), for example using ravel().\n",
      "  y = column_or_1d(y, warn=True)\n"
     ]
    },
    {
     "name": "stdout",
     "output_type": "stream",
     "text": [
      "Train accuracy: 0.4540636042402827\n",
      "Test accuracy: 0.5\n"
     ]
    }
   ],
   "source": [
    "model_bl = linear_model.SGDClassifier(loss='log', max_iter=10000).fit(x_train, y_train)\n",
    "evaluate(model_bl, x_train, y_train, x_test, y_test)"
   ]
  },
  {
   "cell_type": "markdown",
   "metadata": {},
   "source": [
    "## Logistic Regression Model"
   ]
  },
  {
   "cell_type": "code",
   "execution_count": 11,
   "metadata": {},
   "outputs": [],
   "source": [
    "from sklearn.linear_model import LogisticRegression"
   ]
  },
  {
   "cell_type": "code",
   "execution_count": 12,
   "metadata": {},
   "outputs": [
    {
     "name": "stdout",
     "output_type": "stream",
     "text": [
      "Train accuracy: 0.5459363957597173\n",
      "Test accuracy: 0.5\n"
     ]
    },
    {
     "name": "stderr",
     "output_type": "stream",
     "text": [
      "/anaconda3/lib/python3.7/site-packages/sklearn/utils/validation.py:761: DataConversionWarning: A column-vector y was passed when a 1d array was expected. Please change the shape of y to (n_samples, ), for example using ravel().\n",
      "  y = column_or_1d(y, warn=True)\n"
     ]
    }
   ],
   "source": [
    "clf = LogisticRegression(random_state=0, solver='lbfgs', multi_class='multinomial').fit(x_train, y_train)\n",
    "evaluate(clf, x_train, y_train, x_test, y_test)"
   ]
  }
 ],
 "metadata": {
  "kernelspec": {
   "display_name": "Python 3",
   "language": "python",
   "name": "python3"
  },
  "language_info": {
   "codemirror_mode": {
    "name": "ipython",
    "version": 3
   },
   "file_extension": ".py",
   "mimetype": "text/x-python",
   "name": "python",
   "nbconvert_exporter": "python",
   "pygments_lexer": "ipython3",
   "version": "3.7.1"
  }
 },
 "nbformat": 4,
 "nbformat_minor": 2
}
