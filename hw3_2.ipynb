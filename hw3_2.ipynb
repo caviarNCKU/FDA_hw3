{
 "cells": [
  {
   "cell_type": "markdown",
   "metadata": {},
   "source": [
    "# SVM"
   ]
  },
  {
   "cell_type": "code",
   "execution_count": 1,
   "metadata": {},
   "outputs": [],
   "source": [
    "from sklearn import datasets\n",
    "import pandas as pd\n",
    "import numpy as np\n",
    "import matplotlib.pyplot as plt\n",
    "from sklearn import linear_model, metrics, model_selection\n",
    "import random\n",
    "\n",
    "%matplotlib inline"
   ]
  },
  {
   "cell_type": "markdown",
   "metadata": {},
   "source": [
    "## Load the data"
   ]
  },
  {
   "cell_type": "code",
   "execution_count": 2,
   "metadata": {},
   "outputs": [],
   "source": [
    "data = pd.read_csv('training.csv')\n",
    "test = pd.read_csv('test.csv')"
   ]
  },
  {
   "cell_type": "markdown",
   "metadata": {},
   "source": [
    "### Handling datetime\n",
    "* spilt datetime into day, month and year for training"
   ]
  },
  {
   "cell_type": "code",
   "execution_count": 3,
   "metadata": {},
   "outputs": [],
   "source": [
    "new = data[\"Date\"].str.split(\"-\", n = 2, expand = True) \n",
    "\n",
    "new.columns = ['Day', 'Month', 'Year']\n",
    "new.loc[new['Month'] == 'Jan', ['Month']] = 1\n",
    "new.loc[new['Month'] == 'Feb', ['Month']] = 2\n",
    "new.loc[new['Month'] == 'Mar', ['Month']] = 3\n",
    "new.loc[new['Month'] == 'Apr', ['Month']] = 4\n",
    "new.loc[new['Month'] == 'May', ['Month']] = 5\n",
    "new.loc[new['Month'] == 'Jun', ['Month']] = 6\n",
    "new.loc[new['Month'] == 'Jul', ['Month']] = 7\n",
    "new.loc[new['Month'] == 'Aug', ['Month']] = 8\n",
    "new.loc[new['Month'] == 'Sep', ['Month']] = 9\n",
    "new.loc[new['Month'] == 'Oct', ['Month']] = 10\n",
    "new.loc[new['Month'] == 'Nov', ['Month']] = 11\n",
    "new.loc[new['Month'] == 'Dec', ['Month']] = 12\n",
    "\n",
    "data = data.drop('Date', axis=1)\n",
    "data = pd.concat([new, data], axis=1)\n",
    "\n",
    "new2 = test[\"Date\"].str.split(\"-\", n = 2, expand = True) \n",
    "\n",
    "new2.columns = ['Day', 'Month', 'Year']\n",
    "new2.loc[new2['Month'] == 'Jan', ['Month']] = 1\n",
    "new2.loc[new2['Month'] == 'Feb', ['Month']] = 2\n",
    "new2.loc[new2['Month'] == 'Mar', ['Month']] = 3\n",
    "new2.loc[new2['Month'] == 'Apr', ['Month']] = 4\n",
    "new2.loc[new2['Month'] == 'May', ['Month']] = 5\n",
    "new2.loc[new2['Month'] == 'Jun', ['Month']] = 6\n",
    "new2.loc[new2['Month'] == 'Jul', ['Month']] = 7\n",
    "new2.loc[new2['Month'] == 'Aug', ['Month']] = 8\n",
    "new2.loc[new2['Month'] == 'Sep', ['Month']] = 9\n",
    "new2.loc[new2['Month'] == 'Oct', ['Month']] = 10\n",
    "new2.loc[new2['Month'] == 'Nov', ['Month']] = 11\n",
    "new2.loc[new2['Month'] == 'Dec', ['Month']] = 12\n",
    "\n",
    "test = test.drop('Date', axis=1)\n",
    "test = pd.concat([new2, test], axis=1)"
   ]
  },
  {
   "cell_type": "markdown",
   "metadata": {},
   "source": [
    "### Specifying the ups and downs\n",
    "* Subtract close price to open price.\n",
    "* If the result is positive(up), remark it as 1\n",
    "* Otherwise, remark it as 0\n",
    "* Up shift the row to predict the ups and downs tomorrow"
   ]
  },
  {
   "cell_type": "code",
   "execution_count": 4,
   "metadata": {},
   "outputs": [],
   "source": [
    "diff = pd.DataFrame(data['Close Price'] - data['Open Price'])\n",
    "diff.columns = ['Diff']\n",
    "diff = diff.drop(diff.index[0]).reset_index(drop=True)\n",
    "\n",
    "data = pd.concat([data, diff], axis=1)\n",
    "data.loc[data['Diff'] >= 0, ['Diff']] = 1\n",
    "data.loc[data['Diff'] < 0, ['Diff']] = 0\n",
    "data = data.fillna(0)\n",
    "\n",
    "diff2 = pd.DataFrame(test['Close Price'] - test['Open Price'])\n",
    "diff2.columns = ['Diff']\n",
    "diff2 = diff2.drop(diff2.index[0]).reset_index(drop=True)\n",
    "\n",
    "test = pd.concat([test, diff2], axis=1)\n",
    "test.loc[test['Diff'] >= 0, ['Diff']] = 1\n",
    "test.loc[test['Diff'] < 0, ['Diff']] = 0\n",
    "test = test.fillna(0)"
   ]
  },
  {
   "cell_type": "code",
   "execution_count": 5,
   "metadata": {},
   "outputs": [],
   "source": [
    "data = data.drop(['Volume'], axis=1)\n",
    "test = test.drop(['Volume'], axis=1)"
   ]
  },
  {
   "cell_type": "code",
   "execution_count": 6,
   "metadata": {},
   "outputs": [],
   "source": [
    "x_train = data.loc[:, data.columns != 'Diff']\n",
    "y_train = data.loc[:, data.columns == 'Diff']\n",
    "x_test = test.loc[:, test.columns != 'Diff']\n",
    "y_test = test.loc[:, test.columns == 'Diff']"
   ]
  },
  {
   "cell_type": "markdown",
   "metadata": {},
   "source": [
    "## Standardization"
   ]
  },
  {
   "cell_type": "code",
   "execution_count": 7,
   "metadata": {},
   "outputs": [
    {
     "name": "stderr",
     "output_type": "stream",
     "text": [
      "/anaconda3/lib/python3.7/site-packages/sklearn/preprocessing/data.py:625: DataConversionWarning: Data with input dtype int64, float64, object were all converted to float64 by StandardScaler.\n",
      "  return self.partial_fit(X, y)\n",
      "/anaconda3/lib/python3.7/site-packages/ipykernel_launcher.py:6: DataConversionWarning: Data with input dtype int64, float64, object were all converted to float64 by StandardScaler.\n",
      "  \n",
      "/anaconda3/lib/python3.7/site-packages/ipykernel_launcher.py:7: DataConversionWarning: Data with input dtype int64, float64, object were all converted to float64 by StandardScaler.\n",
      "  import sys\n"
     ]
    }
   ],
   "source": [
    "from sklearn.preprocessing import StandardScaler\n",
    "\n",
    "scaler = StandardScaler()\n",
    "scaler.fit(x_train)\n",
    "\n",
    "X_train_std = scaler.transform(x_train)\n",
    "X_test_std = scaler.transform(x_test)"
   ]
  },
  {
   "cell_type": "markdown",
   "metadata": {},
   "source": [
    "## Import svm model in the sklearn"
   ]
  },
  {
   "cell_type": "code",
   "execution_count": 8,
   "metadata": {},
   "outputs": [],
   "source": [
    "from sklearn.svm import SVC"
   ]
  },
  {
   "cell_type": "code",
   "execution_count": 9,
   "metadata": {},
   "outputs": [
    {
     "name": "stdout",
     "output_type": "stream",
     "text": [
      "Penalty = 0.50, Accuracy = 51.59 %\n"
     ]
    }
   ],
   "source": [
    "from sklearn.metrics import accuracy_score\n",
    "\n",
    "# Custom kernel function\n",
    "def my_kernel(X, Y):\n",
    "    return np.dot(X, Y.T)\n",
    "  \n",
    "penalty = 0.5\n",
    "\n",
    "svm = SVC(C=penalty, kernel=\"linear\", probability=True)\n",
    "svm.fit(x_train, y_train['Diff'].values)\n",
    "  \n",
    "acc_rate = accuracy_score(y_test['Diff'].values, svm.predict(x_test)) * 100\n",
    "print(\"Penalty = %.2f, Accuracy = %.2f %%\" % (penalty, acc_rate))"
   ]
  }
 ],
 "metadata": {
  "kernelspec": {
   "display_name": "Python 3",
   "language": "python",
   "name": "python3"
  },
  "language_info": {
   "codemirror_mode": {
    "name": "ipython",
    "version": 3
   },
   "file_extension": ".py",
   "mimetype": "text/x-python",
   "name": "python",
   "nbconvert_exporter": "python",
   "pygments_lexer": "ipython3",
   "version": "3.7.1"
  }
 },
 "nbformat": 4,
 "nbformat_minor": 2
}
