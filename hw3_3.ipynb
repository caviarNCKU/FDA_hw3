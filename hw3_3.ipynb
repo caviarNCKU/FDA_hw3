{
 "cells": [
  {
   "cell_type": "markdown",
   "metadata": {},
   "source": [
    "# Neural Network"
   ]
  },
  {
   "cell_type": "code",
   "execution_count": 1,
   "metadata": {},
   "outputs": [
    {
     "name": "stderr",
     "output_type": "stream",
     "text": [
      "Using TensorFlow backend.\n"
     ]
    }
   ],
   "source": [
    "import pandas as pd\n",
    "from keras import models, layers, optimizers, regularizers\n",
    "import numpy as np\n",
    "import random\n",
    "from sklearn import model_selection, preprocessing\n",
    "import tensorflow as tf\n",
    "from tqdm import tqdm\n",
    "import matplotlib.pyplot as plt"
   ]
  },
  {
   "cell_type": "markdown",
   "metadata": {},
   "source": [
    "## Preprocess the data\n",
    "### Load the Data"
   ]
  },
  {
   "cell_type": "code",
   "execution_count": 2,
   "metadata": {},
   "outputs": [],
   "source": [
    "data = pd.read_csv('training.csv')\n",
    "test = pd.read_csv('test.csv')"
   ]
  },
  {
   "cell_type": "markdown",
   "metadata": {},
   "source": [
    "### Handling datetime\n",
    "* spilt datetime into day, month and year for training"
   ]
  },
  {
   "cell_type": "code",
   "execution_count": 3,
   "metadata": {},
   "outputs": [],
   "source": [
    "new = data[\"Date\"].str.split(\"-\", n = 2, expand = True) \n",
    "\n",
    "new.columns = ['Day', 'Month', 'Year']\n",
    "new.loc[new['Month'] == 'Jan', ['Month']] = 1\n",
    "new.loc[new['Month'] == 'Feb', ['Month']] = 2\n",
    "new.loc[new['Month'] == 'Mar', ['Month']] = 3\n",
    "new.loc[new['Month'] == 'Apr', ['Month']] = 4\n",
    "new.loc[new['Month'] == 'May', ['Month']] = 5\n",
    "new.loc[new['Month'] == 'Jun', ['Month']] = 6\n",
    "new.loc[new['Month'] == 'Jul', ['Month']] = 7\n",
    "new.loc[new['Month'] == 'Aug', ['Month']] = 8\n",
    "new.loc[new['Month'] == 'Sep', ['Month']] = 9\n",
    "new.loc[new['Month'] == 'Oct', ['Month']] = 10\n",
    "new.loc[new['Month'] == 'Nov', ['Month']] = 11\n",
    "new.loc[new['Month'] == 'Dec', ['Month']] = 12\n",
    "\n",
    "data = data.drop('Date', axis=1)\n",
    "data = pd.concat([new, data], axis=1)\n",
    "\n",
    "new2 = test[\"Date\"].str.split(\"-\", n = 2, expand = True) \n",
    "\n",
    "new2.columns = ['Day', 'Month', 'Year']\n",
    "new2.loc[new2['Month'] == 'Jan', ['Month']] = 1\n",
    "new2.loc[new2['Month'] == 'Feb', ['Month']] = 2\n",
    "new2.loc[new2['Month'] == 'Mar', ['Month']] = 3\n",
    "new2.loc[new2['Month'] == 'Apr', ['Month']] = 4\n",
    "new2.loc[new2['Month'] == 'May', ['Month']] = 5\n",
    "new2.loc[new2['Month'] == 'Jun', ['Month']] = 6\n",
    "new2.loc[new2['Month'] == 'Jul', ['Month']] = 7\n",
    "new2.loc[new2['Month'] == 'Aug', ['Month']] = 8\n",
    "new2.loc[new2['Month'] == 'Sep', ['Month']] = 9\n",
    "new2.loc[new2['Month'] == 'Oct', ['Month']] = 10\n",
    "new2.loc[new2['Month'] == 'Nov', ['Month']] = 11\n",
    "new2.loc[new2['Month'] == 'Dec', ['Month']] = 12\n",
    "\n",
    "test = test.drop('Date', axis=1)\n",
    "test = pd.concat([new2, test], axis=1)"
   ]
  },
  {
   "cell_type": "markdown",
   "metadata": {},
   "source": [
    "### Specifying the up and downs\n",
    "* Subtract close price to open price.\n",
    "* If the result is positive(up), remark it as 1\n",
    "* Otherwise, remark it as 0\n",
    "* Up shift the row to predict the ups and downs tomorrow"
   ]
  },
  {
   "cell_type": "code",
   "execution_count": 4,
   "metadata": {},
   "outputs": [],
   "source": [
    "diff = pd.DataFrame(data['Close Price'] - data['Open Price'])\n",
    "diff.columns = ['Diff']\n",
    "diff = diff.drop(diff.index[0]).reset_index(drop=True)\n",
    "\n",
    "data = pd.concat([data, diff], axis=1)\n",
    "data.loc[data['Diff'] >= 0, ['Diff']] = 1\n",
    "data.loc[data['Diff'] < 0, ['Diff']] = 0\n",
    "data = data.fillna(0)\n",
    "\n",
    "diff2 = pd.DataFrame(test['Close Price'] - test['Open Price'])\n",
    "diff2.columns = ['Diff']\n",
    "diff2 = diff2.drop(diff2.index[0]).reset_index(drop=True)\n",
    "\n",
    "\n",
    "test = pd.concat([test, diff2], axis=1)\n",
    "test.loc[test['Diff'] >= 0, ['Diff']] = 1\n",
    "test.loc[test['Diff'] < 0, ['Diff']] = 0\n",
    "test = test.fillna(0)"
   ]
  },
  {
   "cell_type": "code",
   "execution_count": 5,
   "metadata": {},
   "outputs": [],
   "source": [
    "x_train = data.loc[:, data.columns != 'Diff']\n",
    "y_train = data.loc[:, data.columns == 'Diff']\n",
    "x_test = test.loc[:, test.columns != 'Diff']\n",
    "y_test = test.loc[:, test.columns == 'Diff']"
   ]
  },
  {
   "cell_type": "markdown",
   "metadata": {},
   "source": [
    "### Normalize the data"
   ]
  },
  {
   "cell_type": "code",
   "execution_count": 6,
   "metadata": {},
   "outputs": [],
   "source": [
    "x_train = preprocessing.normalize(x_train)\n",
    "x_test = preprocessing.normalize(x_test)"
   ]
  },
  {
   "cell_type": "markdown",
   "metadata": {},
   "source": [
    "# Create a NN model"
   ]
  },
  {
   "cell_type": "markdown",
   "metadata": {},
   "source": [
    "## Hyperparameters"
   ]
  },
  {
   "cell_type": "code",
   "execution_count": 7,
   "metadata": {},
   "outputs": [],
   "source": [
    "hidden_units = 10    # how many neurons in the hidden layer\n",
    "activation = 'relu'    # activation function for hidden layer\n",
    "l2 = 0.001              # regularization - how much we penalize large parameter values\n",
    "learning_rate = 0.1  # how big our steps are in gradient descent\n",
    "epochs = 20          # how many epochs to train for\n",
    "batch_size = 32     # how many samples to use for each gradient descent update"
   ]
  },
  {
   "cell_type": "markdown",
   "metadata": {},
   "source": [
    "## Activation function"
   ]
  },
  {
   "cell_type": "code",
   "execution_count": 8,
   "metadata": {},
   "outputs": [
    {
     "name": "stdout",
     "output_type": "stream",
     "text": [
      "WARNING:tensorflow:From /anaconda3/lib/python3.7/site-packages/tensorflow/python/framework/op_def_library.py:263: colocate_with (from tensorflow.python.framework.ops) is deprecated and will be removed in a future version.\n",
      "Instructions for updating:\n",
      "Colocations handled automatically by placer.\n"
     ]
    }
   ],
   "source": [
    "# create a sequential model\n",
    "model = models.Sequential()\n",
    "\n",
    "# add the hidden layer\n",
    "model.add(layers.Dense(input_dim=8,\n",
    "                       units=hidden_units, \n",
    "                       activation=activation))\n",
    "\n",
    "# add the output layer\n",
    "model.add(layers.Dense(input_dim=hidden_units,\n",
    "                       units=1,\n",
    "                       activation='sigmoid'))\n",
    "\n",
    "# define our loss function and optimizer\n",
    "model.compile(loss='binary_crossentropy',\n",
    "              # Adam is a kind of gradient descent\n",
    "              optimizer=optimizers.Adam(lr=learning_rate),\n",
    "              metrics=['accuracy'])"
   ]
  },
  {
   "cell_type": "code",
   "execution_count": 9,
   "metadata": {},
   "outputs": [],
   "source": [
    "class_weight = {\n",
    "    0: 1.,\n",
    "    1: 160 / 302\n",
    "}"
   ]
  },
  {
   "cell_type": "markdown",
   "metadata": {},
   "source": [
    "## Train the model and see the result"
   ]
  },
  {
   "cell_type": "code",
   "execution_count": 11,
   "metadata": {},
   "outputs": [
    {
     "name": "stdout",
     "output_type": "stream",
     "text": [
      "WARNING:tensorflow:From /anaconda3/lib/python3.7/site-packages/tensorflow/python/ops/math_ops.py:3066: to_int32 (from tensorflow.python.ops.math_ops) is deprecated and will be removed in a future version.\n",
      "Instructions for updating:\n",
      "Use tf.cast instead.\n",
      "Epoch 1/8\n",
      "2264/2264 [==============================] - 0s 128us/step - loss: 0.5020 - acc: 0.4532\n",
      "Epoch 2/8\n",
      "2264/2264 [==============================] - 0s 33us/step - loss: 0.4992 - acc: 0.4541\n",
      "Epoch 3/8\n",
      "2264/2264 [==============================] - 0s 35us/step - loss: 0.4986 - acc: 0.4541\n",
      "Epoch 4/8\n",
      "2264/2264 [==============================] - 0s 34us/step - loss: 0.4985 - acc: 0.4541\n",
      "Epoch 5/8\n",
      "2264/2264 [==============================] - 0s 34us/step - loss: 0.4978 - acc: 0.4541\n",
      "Epoch 6/8\n",
      "2264/2264 [==============================] - 0s 34us/step - loss: 0.4990 - acc: 0.4541\n",
      "Epoch 7/8\n",
      "2264/2264 [==============================] - 0s 34us/step - loss: 0.4987 - acc: 0.4541\n",
      "Epoch 8/8\n",
      "2264/2264 [==============================] - 0s 34us/step - loss: 0.4989 - acc: 0.4541\n",
      "2264/2264 [==============================] - 0s 26us/step\n",
      "252/252 [==============================] - 0s 22us/step\n",
      "Training accuracy: 0.45406360434559123\n",
      "Testing accuracy: 0.49999999905389453\n"
     ]
    },
    {
     "data": {
      "image/png": "[encoded data removed]",
      "text/plain": [
       "<Figure size 432x288 with 1 Axes>"
      ]
     },
     "metadata": {
      "needs_background": "light"
     },
     "output_type": "display_data"
    }
   ],
   "source": [
    "# train the parameters\n",
    "history = model.fit(x_train, y_train, epochs=8, batch_size=batch_size, class_weight=class_weight)\n",
    "\n",
    "# evaluate accuracy\n",
    "train_acc = model.evaluate(x_train, y_train, batch_size=32)[1]\n",
    "test_acc = model.evaluate(x_test, y_test, batch_size=32)[1]\n",
    "print('Training accuracy: %s' % train_acc)\n",
    "print('Testing accuracy: %s' % test_acc)\n",
    "\n",
    "losses = history.history['loss']\n",
    "plt.plot(range(len(losses)), losses, 'r')\n",
    "plt.show()"
   ]
  }
 ],
 "metadata": {
  "kernelspec": {
   "display_name": "Python 3",
   "language": "python",
   "name": "python3"
  },
  "language_info": {
   "codemirror_mode": {
    "name": "ipython",
    "version": 3
   },
   "file_extension": ".py",
   "mimetype": "text/x-python",
   "name": "python",
   "nbconvert_exporter": "python",
   "pygments_lexer": "ipython3",
   "version": "3.7.1"
  }
 },
 "nbformat": 4,
 "nbformat_minor": 2
}
